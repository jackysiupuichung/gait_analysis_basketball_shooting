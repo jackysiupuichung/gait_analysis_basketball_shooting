{
  "nbformat": 4,
  "nbformat_minor": 0,
  "metadata": {
    "colab": {
      "provenance": [],
      "authorship_tag": "ABX9TyNjOKgfq6eVgvZVu8CRFu2f",
      "include_colab_link": true
    },
    "kernelspec": {
      "name": "python3",
      "display_name": "Python 3"
    },
    "language_info": {
      "name": "python"
    }
  },
  "cells": [
    {
      "cell_type": "markdown",
      "metadata": {
        "id": "view-in-github",
        "colab_type": "text"
      },
      "source": [
        "<a href=\"https://colab.research.google.com/github/jackysiupuichung/gait_analysis_basketball_shooting/blob/main/shooting_analysis_opencv.ipynb\" target=\"_parent\"><img src=\"https://colab.research.google.com/assets/colab-badge.svg\" alt=\"Open In Colab\"/></a>"
      ]
    },
    {
      "cell_type": "code",
      "source": [
        "!pip install mediapipe "
      ],
      "metadata": {
        "id": "2XXGF5gnM-ni"
      },
      "execution_count": null,
      "outputs": []
    },
    {
      "cell_type": "code",
      "execution_count": 2,
      "metadata": {
        "id": "E1oKDI1FMDBM"
      },
      "outputs": [],
      "source": [
        "import cv2\n",
        "import time\n",
        "import math as m\n",
        "import mediapipe as mp\n",
        "import numpy as np"
      ]
    },
    {
      "cell_type": "code",
      "source": [
        "#Function to calculate offset distance for proper side view by measuring hip points, the eyes, or the shoulder\n",
        "def findDistance(x1, y1, x2, y2):\n",
        "  dist = m.sqrt((x2-x1)**2+(y2-y1)**2)\n",
        "  return dist"
      ],
      "metadata": {
        "id": "dYNjiLyDMs-E"
      },
      "execution_count": 3,
      "outputs": []
    },
    {
      "cell_type": "code",
      "source": [
        "# Calculate angle between three points\n",
        "def findAngle(a, b, c):\n",
        "    ba = a - b\n",
        "    bc = c - b\n",
        "\n",
        "    cosine_angle = np.dot(ba, bc) / (np.linalg.norm(ba) * np.linalg.norm(bc))\n",
        "    angle = np.arccos(cosine_angle)\n",
        "\n",
        "    return np.degrees(angle)"
      ],
      "metadata": {
        "id": "vJFf4xFdNkoz"
      },
      "execution_count": 4,
      "outputs": []
    },
    {
      "cell_type": "code",
      "source": [
        "import cv2\n",
        "import mediapipe as mp\n",
        "from google.colab.patches import cv2_imshow\n",
        "mp_drawing = mp.solutions.drawing_utils\n",
        "mp_drawing_styles = mp.solutions.drawing_styles\n",
        "mp_pose = mp.solutions.pose"
      ],
      "metadata": {
        "id": "NXG9lAZfU6Ml"
      },
      "execution_count": 5,
      "outputs": []
    },
    {
      "cell_type": "code",
      "source": [
        "cap = cv2.VideoCapture('shooting_short_Trim.mp4')\n",
        "lm_timeseries = []\n",
        "lmPose_timeseries  = []\n",
        "with mp_pose.Pose(\n",
        "    min_detection_confidence=0.5,\n",
        "    min_tracking_confidence=0.5) as pose:\n",
        "  idx = 0\n",
        "  while cap.isOpened():\n",
        "    success, image = cap.read()\n",
        "    if not success:\n",
        "      print(\"Ignoring empty camera frame.\")\n",
        "      # If loading a video, use 'break' instead of 'continue'.\n",
        "      break\n",
        "\n",
        "    # To improve performance, optionally mark the image as not writeable to\n",
        "    # pass by reference.\n",
        "    image.flags.writeable = False\n",
        "    image = cv2.cvtColor(image, cv2.COLOR_BGR2RGB)\n",
        "    results = pose.process(image)\n",
        "    lm_timeseries.append(results.pose_landmarks)\n",
        "    lmPose_timeseries.append(mp_pose.PoseLandmark)\n",
        "    # Draw the pose annotation on the image.\n",
        "    image.flags.writeable = True\n",
        "    image = cv2.cvtColor(image, cv2.COLOR_RGB2BGR)\n",
        "    mp_drawing.draw_landmarks(\n",
        "        image,\n",
        "        results.pose_landmarks,\n",
        "        mp_pose.POSE_CONNECTIONS,\n",
        "        landmark_drawing_spec=mp_drawing_styles.get_default_pose_landmarks_style())\n",
        "    \n",
        "    # Flip the image horizontally for a selfie-view display.\n",
        "    cv2.imwrite('/content/annotated_image/' + str(idx) + '.png', image)\n",
        "    idx += 1\n",
        "    if cv2.waitKey(5) & 0xFF == 27:\n",
        "      break\n",
        "cap.release()"
      ],
      "metadata": {
        "colab": {
          "base_uri": "https://localhost:8080/"
        },
        "id": "P1_9hUyvU-NE",
        "outputId": "89494988-f280-483f-f701-d7a6e623c6ee"
      },
      "execution_count": 80,
      "outputs": [
        {
          "output_type": "stream",
          "name": "stdout",
          "text": [
            "Ignoring empty camera frame.\n"
          ]
        }
      ]
    },
    {
      "cell_type": "code",
      "source": [
        "#convert annotated images into video\n",
        "image_folder = '/content/annotated_image'\n",
        "video_name = 'shooting_short_trim_annotated.mp4'\n",
        "\n",
        "import cv2\n",
        "import numpy as np\n",
        "import glob\n",
        "\n",
        "img_array = []\n",
        "for filename in sorted(glob.glob('/content/annotated_image/*.png')):\n",
        "    img = cv2.imread(filename)\n",
        "    height, width, layers = img.shape\n",
        "    size = (width,height)\n",
        "    img_array.append(img)\n",
        "\n",
        "\n",
        "out = cv2.VideoWriter(video_name,-1, 1, size)\n",
        " \n",
        "for i in range(len(img_array)):\n",
        "    out.write(img_array[i])\n",
        "out.release()"
      ],
      "metadata": {
        "id": "7aXGYhslaquR"
      },
      "execution_count": 39,
      "outputs": []
    },
    {
      "cell_type": "code",
      "source": [
        "def gait_calculate_angle(lm, lmPose, landmarks, width, height):\n",
        "    a_x = int(lm.landmark[lmPose(landmarks[0])].x * width)\n",
        "    a_y = int(lm.landmark[lmPose(landmarks[0])].y * height)\n",
        "    a = np.array([a_x, a_y])\n",
        "\n",
        "    #left knee\n",
        "    b_x = int(lm.landmark[lmPose(landmarks[1])].x * width)\n",
        "    b_y = int(lm.landmark[lmPose(landmarks[1])].y * height)\n",
        "    b = np.array([b_x, b_y])\n",
        "\n",
        "    #left ankle\n",
        "    c_x = int(lm.landmark[lmPose(landmarks[2])].x * width)\n",
        "    c_y = int(lm.landmark[lmPose(landmarks[2])].y * height)\n",
        "    c = np.array([c_x, c_y])\n",
        "\n",
        "    return findAngle(a, b, c)"
      ],
      "metadata": {
        "id": "Bi0Vun4Kp-Sv"
      },
      "execution_count": 97,
      "outputs": []
    },
    {
      "cell_type": "code",
      "source": [
        "#triple extension landmarks\n",
        "right_knee_angle_landmarks = [24, 26, 28]\n",
        "left_knee_angle_landmarks = [23, 25, 27]\n",
        "\n",
        "right_ankle_angle_landmarks = [26, 28, 32]\n",
        "left_ankle_angle_landmarks = [25, 27, 31]\n",
        "\n",
        "right_hip_angle_landmarks = [12, 24, 26]\n",
        "left_hip_angle_landmarks = [11, 23, 25]"
      ],
      "metadata": {
        "id": "9cNQWpHpq5EI"
      },
      "execution_count": 98,
      "outputs": []
    },
    {
      "cell_type": "code",
      "source": [
        "left_knee_angle_timeseries = []\n",
        "right_knee_angle_timeseries = []\n",
        "\n",
        "left_ankle_angle_timeseries = []\n",
        "right_ankle_angle_timeseries = []\n",
        "\n",
        "left_hip_angle_timeseries = []\n",
        "right_hip_angle_timeseries = []\n",
        "\n",
        "for lm, lmPose in zip(lm_timeseries, lmPose_timeseries):\n",
        "    #left hip\n",
        "    if lm and lmPose == np.NaN:\n",
        "        continue\n",
        "    else:\n",
        "        right_knee_angle_timeseries.append(gait_calculate_angle(\n",
        "            lm, lmPose, right_knee_angle_landmarks, width, height))\n",
        "        right_ankle_angle_timeseries.append(gait_calculate_angle(\n",
        "            lm, lmPose, right_ankle_angle_landmarks, width, height))\n",
        "        right_hip_angle_timeseries.append(gait_calculate_angle(\n",
        "            lm, lmPose, right_hip_angle_landmarks, width, height))\n",
        "        \n",
        "        left_knee_angle_timeseries.append(gait_calculate_angle(\n",
        "            lm, lmPose, left_knee_angle_landmarks, width, height))\n",
        "        left_ankle_angle_timeseries.append(gait_calculate_angle(\n",
        "            lm, lmPose, left_ankle_angle_landmarks, width, height))\n",
        "        left_hip_angle_timeseries.append(gait_calculate_angle(\n",
        "            lm, lmPose, left_hip_angle_landmarks, width, height))"
      ],
      "metadata": {
        "id": "rO5Kcekhgbc9"
      },
      "execution_count": 100,
      "outputs": []
    },
    {
      "cell_type": "code",
      "source": [
        "import matplotlib.pyplot as plt\n",
        "import numpy as np\n",
        "import seaborn as sns\n",
        "\n",
        "sns.set_style(\"darkgrid\")\n",
        "plt.plot(left_knee_angle_timeseries)\n",
        "plt.plot(right_knee_angle_timeseries)\n",
        "plt.plot(left_ankle_angle_timeseries)\n",
        "plt.plot(right_ankle_angle_timeseries)\n",
        "plt.plot(left_hip_angle_timeseries)\n",
        "plt.plot(right_hip_angle_timeseries)\n",
        "plt.show()"
      ],
      "metadata": {
        "colab": {
          "base_uri": "https://localhost:8080/",
          "height": 283
        },
        "id": "QpP-53MZn4KI",
        "outputId": "6af2b229-49ba-4754-ce0b-1230565a8832"
      },
      "execution_count": 103,
      "outputs": [
        {
          "output_type": "stream",
          "name": "stderr",
          "text": [
            "WARNING:matplotlib.legend:No handles with labels found to put in legend.\n"
          ]
        },
        {
          "output_type": "display_data",
          "data": {
            "text/plain": [
              "<Figure size 432x288 with 1 Axes>"
            ],
            "image/png": "[encoded data removed]"
          },
          "metadata": {}
        }
      ]
    },
    {
      "cell_type": "markdown",
      "source": [
        "TODO: what parameters to measure\n",
        "      elbow angle change\n",
        "      shoulder angle change\n",
        "      wrist angle change\n",
        "\n",
        "optional features: frontal (elbow aligned)\n",
        "\n",
        "Research objective:\n",
        "      triple extension achieved?\n",
        "      identify features by timing\n",
        "          elbow push upwards?\n",
        "          distance between elbow and core body\n",
        "          hands quick leg slow\n",
        "      compare against another person\n"
      ],
      "metadata": {
        "id": "fV1qp46033ZI"
      }
    },
    {
      "cell_type": "code",
      "source": [],
      "metadata": {
        "id": "Izw0QZ_e20Eq"
      },
      "execution_count": null,
      "outputs": []
    }
  ]
}